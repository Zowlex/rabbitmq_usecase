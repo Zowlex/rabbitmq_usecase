{
 "cells": [
  {
   "cell_type": "code",
   "execution_count": 21,
   "metadata": {},
   "outputs": [],
   "source": [
    "import pandas as pd\n",
    "import matplotlib.pyplot as plt"
   ]
  },
  {
   "cell_type": "code",
   "execution_count": 3,
   "metadata": {},
   "outputs": [
    {
     "data": {
      "text/html": [
       "<div>\n",
       "<style scoped>\n",
       "    .dataframe tbody tr th:only-of-type {\n",
       "        vertical-align: middle;\n",
       "    }\n",
       "\n",
       "    .dataframe tbody tr th {\n",
       "        vertical-align: top;\n",
       "    }\n",
       "\n",
       "    .dataframe thead th {\n",
       "        text-align: right;\n",
       "    }\n",
       "</style>\n",
       "<table border=\"1\" class=\"dataframe\">\n",
       "  <thead>\n",
       "    <tr style=\"text-align: right;\">\n",
       "      <th></th>\n",
       "      <th>Unnamed: 0</th>\n",
       "      <th>$schema</th>\n",
       "      <th>id</th>\n",
       "      <th>type</th>\n",
       "      <th>namespace</th>\n",
       "      <th>title</th>\n",
       "      <th>comment</th>\n",
       "      <th>timestamp</th>\n",
       "      <th>user</th>\n",
       "      <th>bot</th>\n",
       "      <th>...</th>\n",
       "      <th>meta_stream</th>\n",
       "      <th>meta_topic</th>\n",
       "      <th>meta_dt</th>\n",
       "      <th>meta_partition</th>\n",
       "      <th>meta_offset</th>\n",
       "      <th>meta_id</th>\n",
       "      <th>length_old</th>\n",
       "      <th>length_new</th>\n",
       "      <th>revision_old</th>\n",
       "      <th>revision_new</th>\n",
       "    </tr>\n",
       "  </thead>\n",
       "  <tbody>\n",
       "    <tr>\n",
       "      <th>0</th>\n",
       "      <td>0</td>\n",
       "      <td>/mediawiki/recentchange/1.0.0</td>\n",
       "      <td>1389063095</td>\n",
       "      <td>edit</td>\n",
       "      <td>0</td>\n",
       "      <td>Q104971167</td>\n",
       "      <td>/* wbeditentity-update-languages-short:0||nl *...</td>\n",
       "      <td>1611249080</td>\n",
       "      <td>Edoderoobot</td>\n",
       "      <td>True</td>\n",
       "      <td>...</td>\n",
       "      <td>mediawiki.recentchange</td>\n",
       "      <td>eqiad.mediawiki.recentchange</td>\n",
       "      <td>2021-01-21T17:11:20Z</td>\n",
       "      <td>0</td>\n",
       "      <td>2887301727</td>\n",
       "      <td>a62392d6-25d3-405c-9d6c-54956eb60a52</td>\n",
       "      <td>3781</td>\n",
       "      <td>3860</td>\n",
       "      <td>1345581201</td>\n",
       "      <td>1345601868</td>\n",
       "    </tr>\n",
       "    <tr>\n",
       "      <th>1</th>\n",
       "      <td>0</td>\n",
       "      <td>/mediawiki/recentchange/1.0.0</td>\n",
       "      <td>116494285</td>\n",
       "      <td>edit</td>\n",
       "      <td>0</td>\n",
       "      <td>Acanthastrea erythraea</td>\n",
       "      <td>[[Wikipedia:Geen samenvatting|Verwijst door]] ...</td>\n",
       "      <td>1611249078</td>\n",
       "      <td>Kvdrgeus</td>\n",
       "      <td>False</td>\n",
       "      <td>...</td>\n",
       "      <td>mediawiki.recentchange</td>\n",
       "      <td>eqiad.mediawiki.recentchange</td>\n",
       "      <td>2021-01-21T17:11:18Z</td>\n",
       "      <td>0</td>\n",
       "      <td>2887301728</td>\n",
       "      <td>f6acf301-d987-4d7b-85fe-d2c3cb486ffb</td>\n",
       "      <td>866</td>\n",
       "      <td>65</td>\n",
       "      <td>48016794</td>\n",
       "      <td>58091518</td>\n",
       "    </tr>\n",
       "    <tr>\n",
       "      <th>2</th>\n",
       "      <td>0</td>\n",
       "      <td>/mediawiki/recentchange/1.0.0</td>\n",
       "      <td>119689610</td>\n",
       "      <td>edit</td>\n",
       "      <td>0</td>\n",
       "      <td>神楽シリーズ</td>\n",
       "      <td>/* シリーズ作品 */</td>\n",
       "      <td>1611249080</td>\n",
       "      <td>Zaco9876</td>\n",
       "      <td>False</td>\n",
       "      <td>...</td>\n",
       "      <td>mediawiki.recentchange</td>\n",
       "      <td>eqiad.mediawiki.recentchange</td>\n",
       "      <td>2021-01-21T17:11:20Z</td>\n",
       "      <td>0</td>\n",
       "      <td>2887301732</td>\n",
       "      <td>6f36af6f-f84b-421c-bd5d-ebc2eef54f0f</td>\n",
       "      <td>22851</td>\n",
       "      <td>22855</td>\n",
       "      <td>81442784</td>\n",
       "      <td>81442790</td>\n",
       "    </tr>\n",
       "    <tr>\n",
       "      <th>3</th>\n",
       "      <td>0</td>\n",
       "      <td>/mediawiki/recentchange/1.0.0</td>\n",
       "      <td>283652737</td>\n",
       "      <td>edit</td>\n",
       "      <td>0</td>\n",
       "      <td>Nana &amp; Kaoru</td>\n",
       "      <td>Aggiornamento numero volumi pubblicati.</td>\n",
       "      <td>1611249080</td>\n",
       "      <td>Pazio Paz</td>\n",
       "      <td>False</td>\n",
       "      <td>...</td>\n",
       "      <td>mediawiki.recentchange</td>\n",
       "      <td>eqiad.mediawiki.recentchange</td>\n",
       "      <td>2021-01-21T17:11:20Z</td>\n",
       "      <td>0</td>\n",
       "      <td>2887301735</td>\n",
       "      <td>ffc41bdc-1bb8-4c1b-af88-cb066687d441</td>\n",
       "      <td>31030</td>\n",
       "      <td>31030</td>\n",
       "      <td>118007674</td>\n",
       "      <td>118137110</td>\n",
       "    </tr>\n",
       "    <tr>\n",
       "      <th>4</th>\n",
       "      <td>0</td>\n",
       "      <td>/mediawiki/recentchange/1.0.0</td>\n",
       "      <td>1389063094</td>\n",
       "      <td>edit</td>\n",
       "      <td>0</td>\n",
       "      <td>Q37914681</td>\n",
       "      <td>/* wbsetdescription-add:1|bn */ রাশিয়ার একটি ...</td>\n",
       "      <td>1611249080</td>\n",
       "      <td>Tahmid02016</td>\n",
       "      <td>False</td>\n",
       "      <td>...</td>\n",
       "      <td>mediawiki.recentchange</td>\n",
       "      <td>eqiad.mediawiki.recentchange</td>\n",
       "      <td>2021-01-21T17:11:20Z</td>\n",
       "      <td>0</td>\n",
       "      <td>2887301737</td>\n",
       "      <td>10a1a1da-da51-4991-b248-4f3365d5aaf2</td>\n",
       "      <td>6582</td>\n",
       "      <td>6688</td>\n",
       "      <td>898245132</td>\n",
       "      <td>1345601865</td>\n",
       "    </tr>\n",
       "  </tbody>\n",
       "</table>\n",
       "<p>5 rows × 30 columns</p>\n",
       "</div>"
      ],
      "text/plain": [
       "   Unnamed: 0                        $schema          id  type  namespace  \\\n",
       "0           0  /mediawiki/recentchange/1.0.0  1389063095  edit          0   \n",
       "1           0  /mediawiki/recentchange/1.0.0   116494285  edit          0   \n",
       "2           0  /mediawiki/recentchange/1.0.0   119689610  edit          0   \n",
       "3           0  /mediawiki/recentchange/1.0.0   283652737  edit          0   \n",
       "4           0  /mediawiki/recentchange/1.0.0  1389063094  edit          0   \n",
       "\n",
       "                    title                                            comment  \\\n",
       "0              Q104971167  /* wbeditentity-update-languages-short:0||nl *...   \n",
       "1  Acanthastrea erythraea  [[Wikipedia:Geen samenvatting|Verwijst door]] ...   \n",
       "2                  神楽シリーズ                                       /* シリーズ作品 */   \n",
       "3            Nana & Kaoru            Aggiornamento numero volumi pubblicati.   \n",
       "4               Q37914681  /* wbsetdescription-add:1|bn */ রাশিয়ার একটি ...   \n",
       "\n",
       "    timestamp         user    bot  ...             meta_stream  \\\n",
       "0  1611249080  Edoderoobot   True  ...  mediawiki.recentchange   \n",
       "1  1611249078     Kvdrgeus  False  ...  mediawiki.recentchange   \n",
       "2  1611249080     Zaco9876  False  ...  mediawiki.recentchange   \n",
       "3  1611249080    Pazio Paz  False  ...  mediawiki.recentchange   \n",
       "4  1611249080  Tahmid02016  False  ...  mediawiki.recentchange   \n",
       "\n",
       "                     meta_topic               meta_dt meta_partition  \\\n",
       "0  eqiad.mediawiki.recentchange  2021-01-21T17:11:20Z              0   \n",
       "1  eqiad.mediawiki.recentchange  2021-01-21T17:11:18Z              0   \n",
       "2  eqiad.mediawiki.recentchange  2021-01-21T17:11:20Z              0   \n",
       "3  eqiad.mediawiki.recentchange  2021-01-21T17:11:20Z              0   \n",
       "4  eqiad.mediawiki.recentchange  2021-01-21T17:11:20Z              0   \n",
       "\n",
       "  meta_offset                               meta_id length_old length_new  \\\n",
       "0  2887301727  a62392d6-25d3-405c-9d6c-54956eb60a52       3781       3860   \n",
       "1  2887301728  f6acf301-d987-4d7b-85fe-d2c3cb486ffb        866         65   \n",
       "2  2887301732  6f36af6f-f84b-421c-bd5d-ebc2eef54f0f      22851      22855   \n",
       "3  2887301735  ffc41bdc-1bb8-4c1b-af88-cb066687d441      31030      31030   \n",
       "4  2887301737  10a1a1da-da51-4991-b248-4f3365d5aaf2       6582       6688   \n",
       "\n",
       "  revision_old revision_new  \n",
       "0   1345581201   1345601868  \n",
       "1     48016794     58091518  \n",
       "2     81442784     81442790  \n",
       "3    118007674    118137110  \n",
       "4    898245132   1345601865  \n",
       "\n",
       "[5 rows x 30 columns]"
      ]
     },
     "execution_count": 3,
     "metadata": {},
     "output_type": "execute_result"
    }
   ],
   "source": [
    "df = pd.read_csv(\"dataset.csv\")\n",
    "df.head()"
   ]
  },
  {
   "cell_type": "code",
   "execution_count": 4,
   "metadata": {},
   "outputs": [
    {
     "name": "stdout",
     "output_type": "stream",
     "text": [
      "<class 'pandas.core.frame.DataFrame'>\n",
      "RangeIndex: 1000 entries, 0 to 999\n",
      "Data columns (total 30 columns):\n",
      " #   Column              Non-Null Count  Dtype \n",
      "---  ------              --------------  ----- \n",
      " 0   Unnamed: 0          1000 non-null   int64 \n",
      " 1   $schema             1000 non-null   object\n",
      " 2   id                  1000 non-null   int64 \n",
      " 3   type                1000 non-null   object\n",
      " 4   namespace           1000 non-null   int64 \n",
      " 5   title               1000 non-null   object\n",
      " 6   comment             883 non-null    object\n",
      " 7   timestamp           1000 non-null   int64 \n",
      " 8   user                1000 non-null   object\n",
      " 9   bot                 1000 non-null   bool  \n",
      " 10  minor               1000 non-null   bool  \n",
      " 11  patrolled           698 non-null    object\n",
      " 12  server_url          1000 non-null   object\n",
      " 13  server_name         1000 non-null   object\n",
      " 14  server_script_path  1000 non-null   object\n",
      " 15  wiki                1000 non-null   object\n",
      " 16  parsedcomment       883 non-null    object\n",
      " 17  meta_domain         1000 non-null   object\n",
      " 18  meta_uri            1000 non-null   object\n",
      " 19  meta_request_id     1000 non-null   object\n",
      " 20  meta_stream         1000 non-null   object\n",
      " 21  meta_topic          1000 non-null   object\n",
      " 22  meta_dt             1000 non-null   object\n",
      " 23  meta_partition      1000 non-null   int64 \n",
      " 24  meta_offset         1000 non-null   int64 \n",
      " 25  meta_id             1000 non-null   object\n",
      " 26  length_old          1000 non-null   int64 \n",
      " 27  length_new          1000 non-null   int64 \n",
      " 28  revision_old        1000 non-null   int64 \n",
      " 29  revision_new        1000 non-null   int64 \n",
      "dtypes: bool(2), int64(10), object(18)\n",
      "memory usage: 220.8+ KB\n"
     ]
    }
   ],
   "source": [
    "df.info()"
   ]
  },
  {
   "cell_type": "code",
   "execution_count": 9,
   "metadata": {},
   "outputs": [
    {
     "data": {
      "text/plain": [
       "Unnamed: 0              0\n",
       "$schema                 0\n",
       "id                      0\n",
       "type                    0\n",
       "namespace               0\n",
       "title                   0\n",
       "comment               117\n",
       "timestamp               0\n",
       "user                    0\n",
       "bot                     0\n",
       "minor                   0\n",
       "patrolled             302\n",
       "server_url              0\n",
       "server_name             0\n",
       "server_script_path      0\n",
       "wiki                    0\n",
       "parsedcomment         117\n",
       "meta_domain             0\n",
       "meta_uri                0\n",
       "meta_request_id         0\n",
       "meta_stream             0\n",
       "meta_topic              0\n",
       "meta_dt                 0\n",
       "meta_partition          0\n",
       "meta_offset             0\n",
       "meta_id                 0\n",
       "length_old              0\n",
       "length_new              0\n",
       "revision_old            0\n",
       "revision_new            0\n",
       "dtype: int64"
      ]
     },
     "execution_count": 9,
     "metadata": {},
     "output_type": "execute_result"
    }
   ],
   "source": [
    "df.isnull().sum()"
   ]
  },
  {
   "cell_type": "code",
   "execution_count": 11,
   "metadata": {},
   "outputs": [
    {
     "data": {
      "text/plain": [
       "0"
      ]
     },
     "execution_count": 11,
     "metadata": {},
     "output_type": "execute_result"
    }
   ],
   "source": [
    "df.duplicated().sum()"
   ]
  },
  {
   "cell_type": "code",
   "execution_count": 12,
   "metadata": {},
   "outputs": [
    {
     "data": {
      "text/plain": [
       "edit    1000\n",
       "Name: type, dtype: int64"
      ]
     },
     "execution_count": 12,
     "metadata": {},
     "output_type": "execute_result"
    }
   ],
   "source": [
    "df.type.value_counts()"
   ]
  },
  {
   "cell_type": "code",
   "execution_count": 33,
   "metadata": {},
   "outputs": [
    {
     "data": {
      "text/plain": [
       "wiki\n",
       "wikidatawiki    440\n",
       "commonswiki     142\n",
       "enwiki          126\n",
       "frwiki           21\n",
       "itwiki           20\n",
       "dtype: int64"
      ]
     },
     "execution_count": 33,
     "metadata": {},
     "output_type": "execute_result"
    }
   ],
   "source": [
    "grouped_df = df.groupby([\"wiki\"]).size().sort_values(ascending=False)\n",
    "grouped_df.head()"
   ]
  },
  {
   "cell_type": "code",
   "execution_count": 36,
   "metadata": {},
   "outputs": [
    {
     "data": {
      "text/plain": [
       "wiki\n",
       "enwiki    126\n",
       "dewiki     16\n",
       "dtype: int64"
      ]
     },
     "execution_count": 36,
     "metadata": {},
     "output_type": "execute_result"
    }
   ],
   "source": [
    "grouped_df[[\"enwiki\",\"dewiki\"]]"
   ]
  },
  {
   "cell_type": "code",
   "execution_count": null,
   "metadata": {},
   "outputs": [],
   "source": []
  }
 ],
 "metadata": {
  "kernelspec": {
   "display_name": "base",
   "language": "python",
   "name": "python3"
  },
  "language_info": {
   "codemirror_mode": {
    "name": "ipython",
    "version": 3
   },
   "file_extension": ".py",
   "mimetype": "text/x-python",
   "name": "python",
   "nbconvert_exporter": "python",
   "pygments_lexer": "ipython3",
   "version": "3.10.9"
  },
  "orig_nbformat": 4
 },
 "nbformat": 4,
 "nbformat_minor": 2
}
